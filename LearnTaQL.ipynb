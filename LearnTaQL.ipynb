{
 "cells": [
  {
   "cell_type": "markdown",
   "metadata": {},
   "source": [
    "# Mastering TaQL"
   ]
  },
  {
   "cell_type": "markdown",
   "metadata": {
    "collapsed": false
   },
   "source": [
    "TaQL is part of [casacore](https://github.com/casacore/casacore), a set of libraries for radio astronomy data processing.\n",
    "\n",
    "TaQL stands for \"Table Query Language\", but it can be used also without tables."
   ]
  },
  {
   "cell_type": "markdown",
   "metadata": {},
   "source": [
    "## Using this notebook"
   ]
  },
  {
   "cell_type": "markdown",
   "metadata": {},
   "source": [
    "This notebook is written in Jupyter, but it contains a binding to the TaQL kernel. If you highlight a code cell, you can press **Shift-Enter** to evaluate it in TaQL.\n",
    "\n",
    "Navigation in Jupyter notebooks can be tricky. If you are in *command mode* (not editing a cell), lots of keyboard shortcuts are active, like `j` and `k` for scrolling, or `a` for inserting a cell. If you want to type in a cell, make sure to be in *edit mode* by checking you see a blinking cursor. Otherwise typing for example \"`add`\" can have unexpected results."
   ]
  },
  {
   "cell_type": "markdown",
   "metadata": {},
   "source": [
    "## TaQL as a calculator"
   ]
  },
  {
   "cell_type": "markdown",
   "metadata": {},
   "source": [
    "Although it's not the main intended use, you can use TaQL like a regular calculator:"
   ]
  },
  {
   "cell_type": "code",
   "execution_count": 57,
   "metadata": {
    "collapsed": false
   },
   "outputs": [
    {
     "name": "stdout",
     "output_type": "stream",
     "text": [
      "42\n"
     ]
    }
   ],
   "source": [
    "6*7"
   ]
  },
  {
   "cell_type": "markdown",
   "metadata": {},
   "source": [
    "It can do complex numbers as well:"
   ]
  },
  {
   "cell_type": "code",
   "execution_count": 58,
   "metadata": {
    "collapsed": false
   },
   "outputs": [
    {
     "name": "stdout",
     "output_type": "stream",
     "text": [
      "(0.307692307692+0.538461538462j)\n"
     ]
    }
   ],
   "source": [
    "(3+4i)/(8-1i)"
   ]
  },
  {
   "cell_type": "markdown",
   "metadata": {},
   "source": [
    "Also arrays are supported:"
   ]
  },
  {
   "cell_type": "code",
   "execution_count": 74,
   "metadata": {
    "collapsed": false
   },
   "outputs": [
    {
     "name": "stdout",
     "output_type": "stream",
     "text": [
      "[ 10.    34.    21.     0.    -3.14   8.  ]\n"
     ]
    }
   ],
   "source": [
    "[10,34,21,0,-3.14,8]"
   ]
  },
  {
   "cell_type": "markdown",
   "metadata": {},
   "source": [
    "Most functions you expect to work are actually there:"
   ]
  },
  {
   "cell_type": "code",
   "execution_count": 76,
   "metadata": {
    "collapsed": false
   },
   "outputs": [
    {
     "name": "stdout",
     "output_type": "stream",
     "text": [
      "1.0\n"
     ]
    }
   ],
   "source": [
    "sin(pi()/2)"
   ]
  },
  {
   "cell_type": "code",
   "execution_count": 81,
   "metadata": {
    "collapsed": false
   },
   "outputs": [
    {
     "name": "stdout",
     "output_type": "stream",
     "text": [
      "13.8380369513\n"
     ]
    }
   ],
   "source": [
    "stddev([10,34,21,0,-3.14,8])"
   ]
  },
  {
   "cell_type": "markdown",
   "metadata": {},
   "source": [
    "## Units"
   ]
  },
  {
   "cell_type": "markdown",
   "metadata": {},
   "source": [
    "TaQL can handle units:"
   ]
  },
  {
   "cell_type": "code",
   "execution_count": 82,
   "metadata": {
    "collapsed": false
   },
   "outputs": [
    {
     "name": "stdout",
     "output_type": "stream",
     "text": [
      "4.00003 km\n"
     ]
    }
   ],
   "source": [
    "4km + 3cm"
   ]
  },
  {
   "cell_type": "code",
   "execution_count": 91,
   "metadata": {
    "collapsed": false
   },
   "outputs": [
    {
     "name": "stdout",
     "output_type": "stream",
     "text": [
      "0.333333333333 km/(h)\n"
     ]
    }
   ],
   "source": [
    "1km/3h"
   ]
  },
  {
   "cell_type": "code",
   "execution_count": 112,
   "metadata": {
    "collapsed": false
   },
   "outputs": [
    {
     "name": "stdout",
     "output_type": "stream",
     "text": [
      "Error in TaQL command: 'using style Python SELECT sqrt(3km)'\n",
      "  Error in select expression: Erronous use of function sqrt - UnitVal::UnitVal Illegal unit dimensions for root"
     ]
    }
   ],
   "source": [
    "sqrt(3km)"
   ]
  },
  {
   "cell_type": "markdown",
   "metadata": {},
   "source": [
    "Angles can be given in `h:m:d` or `d:m` format, or in radians or degrees:"
   ]
  },
  {
   "cell_type": "code",
   "execution_count": 111,
   "metadata": {
    "collapsed": false
   },
   "outputs": [
    {
     "name": "stdout",
     "output_type": "stream",
     "text": [
      "1.08276715834 rad\n"
     ]
    }
   ],
   "source": [
    "4h56m03.5 + 4d12m43.7 + 1 deg - 0.3 rad"
   ]
  },
  {
   "cell_type": "markdown",
   "metadata": {},
   "source": [
    "If you want the result in a different unit, append that unit to an expression:"
   ]
  },
  {
   "cell_type": "code",
   "execution_count": 118,
   "metadata": {
    "collapsed": false
   },
   "outputs": [
    {
     "name": "stdout",
     "output_type": "stream",
     "text": [
      "62.0379883683 deg\n"
     ]
    }
   ],
   "source": [
    "(4h56m03.5 + 4d12m43.7 + 1 deg - 0.3 rad) deg"
   ]
  },
  {
   "cell_type": "markdown",
   "metadata": {},
   "source": [
    "Dates can be given in for example ISO 8601 format, even though TaQL predates that standard.\n",
    "![ISO 8601 was published on 06/05/88 and most recently amended on 12/01/04.](https://imgs.xkcd.com/comics/iso_8601.png \"XKCD 1179\")"
   ]
  },
  {
   "cell_type": "code",
   "execution_count": 115,
   "metadata": {
    "collapsed": false
   },
   "outputs": [
    {
     "name": "stdout",
     "output_type": "stream",
     "text": [
      "12802.0 d\n"
     ]
    }
   ],
   "source": [
    "date() - 1981-01-04"
   ]
  },
  {
   "cell_type": "markdown",
   "metadata": {},
   "source": [
    "**Exercise**: when was your 10.000th birth-day (in days)?"
   ]
  },
  {
   "cell_type": "code",
   "execution_count": null,
   "metadata": {
    "collapsed": true
   },
   "outputs": [],
   "source": []
  },
  {
   "cell_type": "markdown",
   "metadata": {},
   "source": [
    "For high precision dates, use `meas`."
   ]
  },
  {
   "cell_type": "markdown",
   "metadata": {},
   "source": [
    "## Measures"
   ]
  },
  {
   "cell_type": "markdown",
   "metadata": {},
   "source": [
    "The prefix `meas.` is for functions linking to CasaCore's *measures* library. These functions make it possible to convert measures like directions, epochs, and positions from one reference frame to another. And they are very accurate."
   ]
  },
  {
   "cell_type": "code",
   "execution_count": 127,
   "metadata": {
    "collapsed": false
   },
   "outputs": [
    {
     "name": "stdout",
     "output_type": "stream",
     "text": [
      "[ 61.] s\n"
     ]
    }
   ],
   "source": [
    "meas.epoch(\"TAI\",\"1-Jul-2015 00:00\")-meas.epoch(\"TAI\",\"30-Jun-2015 23:59\")"
   ]
  },
  {
   "cell_type": "code",
   "execution_count": 24,
   "metadata": {
    "collapsed": false
   },
   "outputs": [
    {
     "name": "stdout",
     "output_type": "stream",
     "text": [
      "[24-Jan-2016/08:16:37, 24-Jan-2016/15:09:02]\n"
     ]
    }
   ],
   "source": [
    "meas.riseset(\"SUN\", datetime(), [6.60417, 52.91692] deg)"
   ]
  },
  {
   "cell_type": "code",
   "execution_count": 26,
   "metadata": {
    "collapsed": false
   },
   "outputs": [
    {
     "name": "stdout",
     "output_type": "stream",
     "text": [
      "[23-Jan-2016/08:18:34, 23-Jan-2016/15:07:53]\n"
     ]
    }
   ],
   "source": [
    "meas.riseset(\"SUN\", date(), [6.60417, 52.91692] deg)"
   ]
  },
  {
   "cell_type": "code",
   "execution_count": 25,
   "metadata": {
    "collapsed": false
   },
   "outputs": [
    {
     "name": "stdout",
     "output_type": "stream",
     "text": [
      "[24-Jan-2016/08:16:59, 24-Jan-2016/15:09:59]\n"
     ]
    }
   ],
   "source": [
    "meas.riseset(\"SUN\", date()+1, [6.60417, 52.91692] deg)"
   ]
  },
  {
   "cell_type": "markdown",
   "metadata": {},
   "source": [
    "Or, if you're really interested in where the sun is at every hour today:"
   ]
  },
  {
   "cell_type": "code",
   "execution_count": 31,
   "metadata": {
    "collapsed": false
   },
   "outputs": [
    {
     "name": "stdout",
     "output_type": "stream",
     "text": [
      "[[ 0.1115  -0.99075]\n",
      " [ 0.53765 -0.93974]\n",
      " [ 0.8934  -0.83539]\n",
      " [ 1.17986 -0.6989 ]\n",
      " [ 1.41898 -0.54631]\n",
      " [ 1.63125 -0.38813]\n",
      " [ 1.83175 -0.23181]\n",
      " [ 2.03149 -0.08361]\n",
      " [ 2.23873  0.0503 ]\n",
      " [ 2.45933  0.16324]\n",
      " [ 2.69597  0.2481 ]\n",
      " [ 2.94684  0.29817]\n",
      " [-3.07806  0.30874]\n",
      " [-2.8222   0.27873]\n",
      " [-2.57758  0.21114]\n",
      " [-2.34865  0.11186]\n",
      " [-2.1349  -0.01201]\n",
      " [-1.93192 -0.15352]\n",
      " [-1.73266 -0.30624]\n",
      " [-1.52762 -0.46405]\n",
      " [-1.30401 -0.62024]\n",
      " [-1.04425 -0.76613]\n",
      " [-0.72614 -0.88873]\n",
      " [-0.33407 -0.96902]] rad\n",
      "\n"
     ]
    }
   ],
   "source": [
    "meas.azel(\"SUN\", date()+[0:24]h, [6.60417, 52.91692] deg)"
   ]
  },
  {
   "cell_type": "code",
   "execution_count": 16,
   "metadata": {
    "collapsed": false
   },
   "outputs": [
    {
     "name": "stdout",
     "output_type": "stream",
     "text": [
      "[  6.60417  52.91692] deg\n"
     ]
    }
   ],
   "source": [
    "meas.WGSLL(\"WSRT\") deg"
   ]
  },
  {
   "cell_type": "code",
   "execution_count": 42,
   "metadata": {
    "collapsed": false
   },
   "outputs": [
    {
     "name": "stdout",
     "output_type": "stream",
     "text": [
      "[ 3600.04164] s\n"
     ]
    }
   ],
   "source": [
    "meas.epoch(\"UT1\",\"1-Jul-2015 00:00\")-meas.epoch(\"UT1\",\"30-Jun-2015 23:00\")"
   ]
  },
  {
   "cell_type": "code",
   "execution_count": 36,
   "metadata": {
    "collapsed": false
   },
   "outputs": [
    {
     "name": "stdout",
     "output_type": "stream",
     "text": [
      "[ 3601.] s\n"
     ]
    }
   ],
   "source": [
    "meas.epoch(\"TAI\",1-Jul-2015 00:00, 'UTC')-meas.epoch(\"TAI\",30-Jun-2015 23:00, 'UTC')"
   ]
  },
  {
   "cell_type": "code",
   "execution_count": 44,
   "metadata": {
    "collapsed": false
   },
   "outputs": [
    {
     "name": "stdout",
     "output_type": "stream",
     "text": [
      "[ 1.] s\n"
     ]
    }
   ],
   "source": [
    "meas.epoch(\"UTC\",1-Jul-2015 00:00, 'UTC')-meas.epoch(\"UTC\",30-Jun-2015 23:59:59, 'UTC')"
   ]
  },
  {
   "cell_type": "markdown",
   "metadata": {},
   "source": [
    "The most recent (at time of writing) leap second was in 30 June 2015, and it was [announced](ftp://hpiers.obspm.fr/iers/bul/bulc/bulletinc.49) on 5 January 2015. This is why you should sometimes update your casacore data directory."
   ]
  },
  {
   "cell_type": "code",
   "execution_count": 1,
   "metadata": {
    "collapsed": false
   },
   "outputs": [
    {
     "name": "stdout",
     "output_type": "stream",
     "text": [
      "Error in TaQL command: 'using style Python SELECT meas.epoch(\"GMT\",\"1-Jul-2015\")-meas.epoch(\"GMT\",\"30-Jun-2015\")'\n",
      "  Unknown epoch reference type GMT given in a MEAS function"
     ]
    }
   ],
   "source": [
    "meas.epoch(\"GMT\",\"1-Jul-2015\")-meas.epoch(\"GMT\",\"30-Jun-2015\")"
   ]
  },
  {
   "cell_type": "code",
   "execution_count": 2,
   "metadata": {
    "collapsed": false
   },
   "outputs": [
    {
     "name": "stdout",
     "output_type": "stream",
     "text": [
      "12802.0 d\n"
     ]
    }
   ],
   "source": [
    "(meas.epoch(\"UTC\",date() - 4-Jan-1981) d"
   ]
  },
  {
   "cell_type": "code",
   "execution_count": 15,
   "metadata": {
    "collapsed": false
   },
   "outputs": [
    {
     "name": "stdout",
     "output_type": "stream",
     "text": [
      "172800.0 s\n"
     ]
    }
   ],
   "source": [
    "(1-Jul-1981 - 29-Jun-1981) s"
   ]
  },
  {
   "cell_type": "code",
   "execution_count": 4,
   "metadata": {
    "collapsed": false
   },
   "outputs": [
    {
     "name": "stdout",
     "output_type": "stream",
     "text": [
      "Select result of 1 row\n",
      "DELAY_DIR                     \t\n",
      "[01h37m41.299, +033d09m35.132]\n"
     ]
    }
   ],
   "source": [
    "select DELAY_DIR from ~/projects/tim/tim.MS::FIELD limit 3"
   ]
  },
  {
   "cell_type": "code",
   "execution_count": 5,
   "metadata": {
    "collapsed": false
   },
   "outputs": [
    {
     "name": "stdout",
     "output_type": "stream",
     "text": [
      "Select result of 1 row\n",
      "DELAY_DIR                     \tPHASE_DIR                     \tREFERENCE_DIR                 \tCODE\tFLAG_ROW\tNAME  \tNUM_POLY\tSOURCE_ID\tTIME          \tLOFAR_TILE_BEAM_DIR    \t\n",
      "[01h37m41.299, +033d09m35.132]\t[01h37m41.299, +033d09m35.132]\t[01h37m41.299, +033d09m35.132]\t\tFalse\tBEAM_0\t0\t-1\t4871282388.0 s\t[ 0.42625  0.57875] rad\n"
     ]
    }
   ],
   "source": [
    "select * from ~/projects/tim/tim.MS::FIELD"
   ]
  },
  {
   "cell_type": "code",
   "execution_count": null,
   "metadata": {
    "collapsed": false
   },
   "outputs": [],
   "source": [
    "update bla.MS set DATA[!FLAG]=0"
   ]
  },
  {
   "cell_type": "code",
   "execution_count": 7,
   "metadata": {
    "collapsed": false
   },
   "outputs": [
    {
     "name": "stdout",
     "output_type": "stream",
     "text": [
      "Select result of 1 row\n",
      "bla            \t\n",
      "4871282393.01 s\n"
     ]
    }
   ],
   "source": [
    "select TIME as bla from ~/projects/tim/tim.MS limit 1"
   ]
  },
  {
   "cell_type": "code",
   "execution_count": null,
   "metadata": {
    "collapsed": false
   },
   "outputs": [],
   "source": [
    "select hdms(DELAY_DIR), \"bla\" as bla from ~/projects/tim/tim.MS::FIELD"
   ]
  },
  {
   "cell_type": "code",
   "execution_count": null,
   "metadata": {
    "collapsed": false
   },
   "outputs": [],
   "source": [
    "select * from (select DELAY_DIR, \"bla\" from ~/projects/tim/tim.MS::FIELD)"
   ]
  },
  {
   "cell_type": "code",
   "execution_count": null,
   "metadata": {
    "collapsed": false
   },
   "outputs": [],
   "source": [
    "select UVW, ANTENNA1 as ant1, ANTENNA2 as ant2, mscal.ant1name(), mscal.ant2name() from (select from ~/projects/tim/tim.MS limit 10)"
   ]
  },
  {
   "cell_type": "code",
   "execution_count": null,
   "metadata": {
    "collapsed": false
   },
   "outputs": [],
   "source": [
    "6*7"
   ]
  },
  {
   "cell_type": "code",
   "execution_count": null,
   "metadata": {
    "collapsed": false
   },
   "outputs": [],
   "source": [
    "select meas.azel(\"SUN\", date()+[0:24]h, \"WSRT\") deg"
   ]
  },
  {
   "cell_type": "markdown",
   "metadata": {},
   "source": [
    "Notation of angles"
   ]
  },
  {
   "cell_type": "markdown",
   "metadata": {},
   "source": [
    "Notation of dates"
   ]
  },
  {
   "cell_type": "markdown",
   "metadata": {},
   "source": [
    "## Tables"
   ]
  },
  {
   "cell_type": "code",
   "execution_count": null,
   "metadata": {
    "collapsed": false,
    "scrolled": true
   },
   "outputs": [],
   "source": [
    "select mean(DATA[FLAG]) as mymean, WEIGHT from ~/projects/tim/tim.MS limit 2"
   ]
  },
  {
   "cell_type": "markdown",
   "metadata": {},
   "source": [
    "Columns"
   ]
  },
  {
   "cell_type": "markdown",
   "metadata": {},
   "source": [
    "limit, offset, etc"
   ]
  },
  {
   "cell_type": "markdown",
   "metadata": {},
   "source": [
    "Storing the output"
   ]
  },
  {
   "cell_type": "markdown",
   "metadata": {},
   "source": [
    "### Using groupby"
   ]
  },
  {
   "cell_type": "markdown",
   "metadata": {},
   "source": [
    "## Structure of a Measurement Set"
   ]
  },
  {
   "cell_type": "markdown",
   "metadata": {},
   "source": [
    "Example with subquery"
   ]
  },
  {
   "cell_type": "markdown",
   "metadata": {},
   "source": [
    "Example with mscal"
   ]
  },
  {
   "cell_type": "markdown",
   "metadata": {},
   "source": [
    "## Baseline selection syntax"
   ]
  }
 ],
 "metadata": {
  "kernelspec": {
   "display_name": "TaQL",
   "language": "",
   "name": "taql"
  },
  "language_info": {
   "mimetype": "text/plain",
   "name": "taql"
  }
 },
 "nbformat": 4,
 "nbformat_minor": 0
}
