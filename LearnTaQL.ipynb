{
 "cells": [
  {
   "cell_type": "markdown",
   "metadata": {},
   "source": [
    "# Mastering TaQL"
   ]
  },
  {
   "cell_type": "markdown",
   "metadata": {},
   "source": [
    "*Of: Heb geen hekel aan TaQL*"
   ]
  },
  {
   "cell_type": "markdown",
   "metadata": {
    "collapsed": false
   },
   "source": [
    "TaQL is part of [casacore](https://github.com/casacore/casacore), a set of libraries for radio astronomy data processing.\n",
    "\n",
    "TaQL stands for \"Table Query Language\", but it can be used also without tables."
   ]
  },
  {
   "cell_type": "markdown",
   "metadata": {},
   "source": [
    "## Using this notebook"
   ]
  },
  {
   "cell_type": "markdown",
   "metadata": {},
   "source": [
    "This notebook is written in Jupyter, but it contains a binding to the TaQL kernel. If you highlight a code cell, you can press **Shift-Enter** to evaluate it in TaQL.\n",
    "\n",
    "You can evaluate all the TaQL commands already present in this notebook. To understand the commands, you can try to predict the outcome of a statement before evaluating it. Also, you are encouraged to change the commands: you can enter any valid TaQL-statement in this notebook.\n",
    "\n",
    "Navigation in Jupyter notebooks can be tricky. If you are in *command mode* (not editing a cell), lots of keyboard shortcuts are active, like `\"j\"` and `\"k\"` for scrolling, `\"a\"` for inserting a cell, or `\"dd\"` for deleting one (these should be familiar if you know `vi`). If you want to type in a cell, make sure to be in *edit mode* by checking you see a blinking cursor. \n",
    "\n",
    "  * To go to edit mode, press Enter or double click a cell.\n",
    "  * To go back to command mode, press Esc or single click another cell."
   ]
  },
  {
   "cell_type": "markdown",
   "metadata": {},
   "source": [
    "**Exercise**: what will happen if you type `\"add\"` in command mode, and try it to see if you're right."
   ]
  },
  {
   "cell_type": "markdown",
   "metadata": {},
   "source": [
    "## TaQL as a calculator"
   ]
  },
  {
   "cell_type": "markdown",
   "metadata": {},
   "source": [
    "Although it's not the main intended use, you can use TaQL like a regular calculator:"
   ]
  },
  {
   "cell_type": "code",
   "execution_count": 1,
   "metadata": {
    "collapsed": false
   },
   "outputs": [
    {
     "name": "stdout",
     "output_type": "stream",
     "text": [
      "42\n"
     ]
    }
   ],
   "source": [
    "6*7"
   ]
  },
  {
   "cell_type": "markdown",
   "metadata": {},
   "source": [
    "It can do complex numbers as well:"
   ]
  },
  {
   "cell_type": "code",
   "execution_count": 2,
   "metadata": {
    "collapsed": false
   },
   "outputs": [
    {
     "name": "stdout",
     "output_type": "stream",
     "text": [
      "(0.307692307692+0.538461538462j)\n"
     ]
    }
   ],
   "source": [
    "(3+4i)/(8-1i)"
   ]
  },
  {
   "cell_type": "markdown",
   "metadata": {},
   "source": [
    "Most functions you expect to work are actually there:"
   ]
  },
  {
   "cell_type": "code",
   "execution_count": 3,
   "metadata": {
    "collapsed": false
   },
   "outputs": [
    {
     "name": "stdout",
     "output_type": "stream",
     "text": [
      "1.0\n"
     ]
    }
   ],
   "source": [
    "sin(pi()/2)"
   ]
  },
  {
   "cell_type": "markdown",
   "metadata": {},
   "source": [
    "Also lists are supported:"
   ]
  },
  {
   "cell_type": "code",
   "execution_count": 21,
   "metadata": {
    "collapsed": false
   },
   "outputs": [
    {
     "name": "stdout",
     "output_type": "stream",
     "text": [
      "[ 10. ,  34. ,  21. ,   0. ,  -3.4,   8. ]\n"
     ]
    }
   ],
   "source": [
    "[10,34,21,0,-3.4,8]"
   ]
  },
  {
   "cell_type": "code",
   "execution_count": 22,
   "metadata": {
    "collapsed": false
   },
   "outputs": [
    {
     "name": "stdout",
     "output_type": "stream",
     "text": [
      "13.8938835464\n"
     ]
    }
   ],
   "source": [
    "stddev([10,34,21,0,-3.4,8])"
   ]
  },
  {
   "cell_type": "markdown",
   "metadata": {},
   "source": [
    "Moreover, and here it gets interesting, TaQL supports arrays:"
   ]
  },
  {
   "cell_type": "code",
   "execution_count": 4,
   "metadata": {
    "collapsed": false
   },
   "outputs": [
    {
     "name": "stdout",
     "output_type": "stream",
     "text": [
      "[[37,  1,  3],\n",
      " [34,  5,  7]]\n"
     ]
    }
   ],
   "source": [
    "array([37,1,3,34,5,7],2,3)"
   ]
  },
  {
   "cell_type": "markdown",
   "metadata": {},
   "source": [
    "As you see, this yields an array of two rows and three columns.\n",
    "\n",
    "**Note**: the command line version `taql` prints this as\n",
    "```\n",
    "Axis Lengths: [3, 2]  (NB: Matrix in Row/Column order)\n",
    "[37, 34\n",
    " 1, 5\n",
    " 3, 7]\n",
    "```\n",
    "In this notebook, it is printed in Column/Row order, just like in python and C."
   ]
  },
  {
   "cell_type": "markdown",
   "metadata": {},
   "source": [
    "Most functions also work on arrays. To take the mean of an array:"
   ]
  },
  {
   "cell_type": "code",
   "execution_count": 24,
   "metadata": {
    "collapsed": false
   },
   "outputs": [
    {
     "name": "stdout",
     "output_type": "stream",
     "text": [
      "14.5\n"
     ]
    }
   ],
   "source": [
    "mean(array([37,1,3,34,5,7],2,3))"
   ]
  },
  {
   "cell_type": "markdown",
   "metadata": {},
   "source": [
    "To take the mean over one axis, use `mean`**`s`** (just like in NumPy):"
   ]
  },
  {
   "cell_type": "code",
   "execution_count": 25,
   "metadata": {
    "collapsed": false
   },
   "outputs": [
    {
     "name": "stdout",
     "output_type": "stream",
     "text": [
      "[ 35.5,   3. ,   5. ]\n"
     ]
    }
   ],
   "source": [
    "means(array([37,1,3,34,5,7],2,3),0)"
   ]
  },
  {
   "cell_type": "code",
   "execution_count": 26,
   "metadata": {
    "collapsed": false
   },
   "outputs": [
    {
     "name": "stdout",
     "output_type": "stream",
     "text": [
      "[ 13.66667,  15.33333]\n"
     ]
    }
   ],
   "source": [
    "means(array([37,1,3,34,5,7],2,3),1)"
   ]
  },
  {
   "cell_type": "markdown",
   "metadata": {},
   "source": [
    "## Units"
   ]
  },
  {
   "cell_type": "markdown",
   "metadata": {},
   "source": [
    "TaQL has basic support for units:"
   ]
  },
  {
   "cell_type": "code",
   "execution_count": 27,
   "metadata": {
    "collapsed": false
   },
   "outputs": [
    {
     "name": "stdout",
     "output_type": "stream",
     "text": [
      "4.00003 km\n"
     ]
    }
   ],
   "source": [
    "4km + 3cm"
   ]
  },
  {
   "cell_type": "code",
   "execution_count": 28,
   "metadata": {
    "collapsed": false
   },
   "outputs": [
    {
     "name": "stdout",
     "output_type": "stream",
     "text": [
      "400003.0 cm\n"
     ]
    }
   ],
   "source": [
    "3cm + 4km"
   ]
  },
  {
   "cell_type": "code",
   "execution_count": 29,
   "metadata": {
    "collapsed": false
   },
   "outputs": [
    {
     "name": "stdout",
     "output_type": "stream",
     "text": [
      "0.333333333333 km/(h)\n"
     ]
    }
   ],
   "source": [
    "1km/3h"
   ]
  },
  {
   "cell_type": "code",
   "execution_count": 30,
   "metadata": {
    "collapsed": false
   },
   "outputs": [
    {
     "name": "stdout",
     "output_type": "stream",
     "text": [
      "Error in TaQL command: 'using style Python SELECT sqrt(3km)'\n",
      "  Error in select expression: Erronous use of function sqrt - UnitVal::UnitVal Illegal unit dimensions for root"
     ]
    }
   ],
   "source": [
    "sqrt(3km)"
   ]
  },
  {
   "cell_type": "markdown",
   "metadata": {},
   "source": [
    "### Angles"
   ]
  },
  {
   "cell_type": "markdown",
   "metadata": {},
   "source": [
    "Angles can be given in `h:m:d` or `d:m` format, or in radians or degrees:"
   ]
  },
  {
   "cell_type": "code",
   "execution_count": 31,
   "metadata": {
    "collapsed": false
   },
   "outputs": [
    {
     "name": "stdout",
     "output_type": "stream",
     "text": [
      "1.08276715834 rad\n"
     ]
    }
   ],
   "source": [
    "4h56m03.5 + 4d12m43.7 + 1 deg - 0.3 rad"
   ]
  },
  {
   "cell_type": "markdown",
   "metadata": {},
   "source": [
    "If you want the result in a different unit, append that unit to an expression:"
   ]
  },
  {
   "cell_type": "code",
   "execution_count": 33,
   "metadata": {
    "collapsed": false
   },
   "outputs": [
    {
     "name": "stdout",
     "output_type": "stream",
     "text": [
      "62.0379883683 deg\n"
     ]
    }
   ],
   "source": [
    "(4h56m03.5 + 4d12m43.7 + 1 deg - 0.3 rad) deg"
   ]
  },
  {
   "cell_type": "markdown",
   "metadata": {},
   "source": [
    "It also helps to know that the unit of an expression will be the same of the unit of the first component:"
   ]
  },
  {
   "cell_type": "code",
   "execution_count": 241,
   "metadata": {
    "collapsed": false
   },
   "outputs": [
    {
     "name": "stdout",
     "output_type": "stream",
     "text": [
      "62.0379883683 deg\n"
     ]
    }
   ],
   "source": [
    "0deg + 4h56m03.5 + 4d12m43.7 + 1 deg - 0.3 rad"
   ]
  },
  {
   "cell_type": "markdown",
   "metadata": {},
   "source": [
    "Positions on the sky or earth are commonly represented as two angles. Functions for calculations with angles are built in, for example for computing the angular distance between two angles:"
   ]
  },
  {
   "cell_type": "code",
   "execution_count": 262,
   "metadata": {
    "collapsed": false
   },
   "outputs": [
    {
     "name": "stdout",
     "output_type": "stream",
     "text": [
      "37.08308 deg\n"
     ]
    }
   ],
   "source": [
    "angdist([6.60417, 52.91692] deg, [0, 90] deg) deg"
   ]
  },
  {
   "cell_type": "markdown",
   "metadata": {},
   "source": [
    "### Dates"
   ]
  },
  {
   "cell_type": "markdown",
   "metadata": {},
   "source": [
    "![ISO 8601 was published on 06/05/88 and most recently amended on 12/01/04.](https://imgs.xkcd.com/comics/iso_8601.png \"XKCD 1179\")"
   ]
  },
  {
   "cell_type": "markdown",
   "metadata": {},
   "source": [
    "Literal dates can be entered directly into TaQL, for example using the above ISO standard (which was introduced after the first version of casacore)."
   ]
  },
  {
   "cell_type": "code",
   "execution_count": 128,
   "metadata": {
    "collapsed": false
   },
   "outputs": [
    {
     "name": "stdout",
     "output_type": "stream",
     "text": [
      "1981/04/01\n"
     ]
    }
   ],
   "source": [
    "1981-04-01"
   ]
  },
  {
   "cell_type": "markdown",
   "metadata": {},
   "source": [
    "Values can be converted to dates with the function `date()` or `datetime()`. Without arguments, this gives the current date (or date + time)."
   ]
  },
  {
   "cell_type": "code",
   "execution_count": 130,
   "metadata": {
    "collapsed": false
   },
   "outputs": [
    {
     "name": "stdout",
     "output_type": "stream",
     "text": [
      "1858/11/17\n"
     ]
    }
   ],
   "source": [
    "date(0.)"
   ]
  },
  {
   "cell_type": "markdown",
   "metadata": {},
   "source": [
    "As you can guess from the above, dates are internally stored as modified Julian Date."
   ]
  },
  {
   "cell_type": "markdown",
   "metadata": {},
   "source": [
    "To convert a date to a pretty-printed date, you can use `cdate()`:"
   ]
  },
  {
   "cell_type": "code",
   "execution_count": 239,
   "metadata": {
    "collapsed": false
   },
   "outputs": [
    {
     "name": "stdout",
     "output_type": "stream",
     "text": [
      "17-Nov-1858\n"
     ]
    }
   ],
   "source": [
    "cdate(date(0.))"
   ]
  },
  {
   "cell_type": "markdown",
   "metadata": {},
   "source": [
    "Similarly for showing times there is `ctime()`, and for showing both date and time there is `cdatetime()`."
   ]
  },
  {
   "cell_type": "code",
   "execution_count": 240,
   "metadata": {
    "collapsed": false
   },
   "outputs": [
    {
     "name": "stdout",
     "output_type": "stream",
     "text": [
      "12807.0 d\n"
     ]
    }
   ],
   "source": [
    "date() - 1981-01-04"
   ]
  },
  {
   "cell_type": "markdown",
   "metadata": {},
   "source": [
    "**Exercise**: when were you 10.000 days old?"
   ]
  },
  {
   "cell_type": "code",
   "execution_count": null,
   "metadata": {
    "collapsed": false
   },
   "outputs": [],
   "source": []
  },
  {
   "cell_type": "markdown",
   "metadata": {},
   "source": [
    "### Times"
   ]
  },
  {
   "cell_type": "markdown",
   "metadata": {},
   "source": [
    "The function `time()` gives the time (current time if no arguments given) in *radians*. This makes it possible to write times in the same way as angles: "
   ]
  },
  {
   "cell_type": "code",
   "execution_count": 108,
   "metadata": {
    "collapsed": false
   },
   "outputs": [
    {
     "name": "stdout",
     "output_type": "stream",
     "text": [
      "True\n"
     ]
    }
   ],
   "source": [
    "time() > 12h38m"
   ]
  },
  {
   "cell_type": "markdown",
   "metadata": {},
   "source": [
    "**Exercise**: check that `datetime() - date()` (which gives a result in days) is consistent with `time()`."
   ]
  },
  {
   "cell_type": "code",
   "execution_count": null,
   "metadata": {
    "collapsed": true
   },
   "outputs": [],
   "source": []
  },
  {
   "cell_type": "code",
   "execution_count": null,
   "metadata": {
    "collapsed": false
   },
   "outputs": [],
   "source": []
  },
  {
   "cell_type": "markdown",
   "metadata": {},
   "source": [
    "## Measures"
   ]
  },
  {
   "cell_type": "markdown",
   "metadata": {},
   "source": [
    "The prefix `meas.` is for functions linking to CasaCore's *measures* library. These functions make it possible to convert measures like directions, epochs, and positions from one reference frame to another."
   ]
  },
  {
   "cell_type": "markdown",
   "metadata": {},
   "source": [
    "### Times"
   ]
  },
  {
   "cell_type": "markdown",
   "metadata": {},
   "source": [
    "To do really accurate computations with times, one should use Measures. When you specify a time, it is interpreted with respect to the `UTC` frame (Coordinated Universal Time). To convert to a different frame, e.g. `TAI` (International Atomic Time), use `meas.epoch`:"
   ]
  },
  {
   "cell_type": "code",
   "execution_count": 278,
   "metadata": {
    "collapsed": false
   },
   "outputs": [
    {
     "name": "stdout",
     "output_type": "stream",
     "text": [
      "['2016/01/28/12:00:36.000']\n"
     ]
    }
   ],
   "source": [
    "cdatetime(meas.epoch(\"TAI\", date()+12h, \"UTC\"))"
   ]
  },
  {
   "cell_type": "markdown",
   "metadata": {},
   "source": [
    "Since the default time frame is `UTC`, it may be omitted."
   ]
  },
  {
   "cell_type": "markdown",
   "metadata": {},
   "source": [
    "As you see, there is a discrepancy between `UTC` and `TAI`. This is due to leap seconds.  These leap seconds are announced only half a year before (for example, here's the [announcement](ftp://hpiers.obspm.fr/iers/bul/bulc/bulletinc.49) for 2015's leap second). This is why you should regularly update your casacore data directory, and otherwise get warnings that your times may be a second wrong."
   ]
  },
  {
   "cell_type": "code",
   "execution_count": 16,
   "metadata": {
    "collapsed": false
   },
   "outputs": [
    {
     "name": "stdout",
     "output_type": "stream",
     "text": [
      "[ 35.] s\n"
     ]
    }
   ],
   "source": [
    "meas.epoch(\"TAI\",\"30-Jun-2015\")-meas.epoch(\"UTC\",\"30-Jun-2015\")"
   ]
  },
  {
   "cell_type": "code",
   "execution_count": 17,
   "metadata": {
    "collapsed": false
   },
   "outputs": [
    {
     "name": "stdout",
     "output_type": "stream",
     "text": [
      "[ 36.] s\n"
     ]
    }
   ],
   "source": [
    "meas.epoch(\"TAI\",\"01-Jul-2015\")-meas.epoch(\"UTC\",\"01-Jul-2015\")"
   ]
  },
  {
   "cell_type": "markdown",
   "metadata": {},
   "source": [
    "As you see, a leap second was inserted in `UTC` between June and July 2015."
   ]
  },
  {
   "cell_type": "markdown",
   "metadata": {},
   "source": [
    "**Exercise**: calculate the number of seconds between `2015-01-01 00:00 UTC` and `2016-01-01 00:00 UTC`, and explain why the answer is *not* `31536000`."
   ]
  },
  {
   "cell_type": "code",
   "execution_count": 25,
   "metadata": {
    "collapsed": false
   },
   "outputs": [
    {
     "name": "stdout",
     "output_type": "stream",
     "text": [
      "-157766400.0 s\n"
     ]
    }
   ],
   "source": [
    "(2015-01-01 00:00 - 2020-01-01 00:00) s"
   ]
  },
  {
   "cell_type": "markdown",
   "metadata": {},
   "source": [
    "Available time frames are:\n",
    "\n",
    "`\"LAST\"` (Local Apparent Sidereal Time), `\"LMST\"` (Local Mean Sidereal Time), `\"GMST1\"` (Greenwhich Mean ST1), `\"GAST\"` (Greenwhich Apparent ST1), `\"UT1\"`, `\"UT2\"`, `\"UTC\"`, `\"TAI\"`, `\"TDT\"`, `\"TCG\"`, `\"TDB\"`, `\"TCB\"`"
   ]
  },
  {
   "cell_type": "code",
   "execution_count": 45,
   "metadata": {
    "collapsed": false
   },
   "outputs": [
    {
     "name": "stdout",
     "output_type": "stream",
     "text": [
      "['2015/07/01/00:00:00.000']\n"
     ]
    }
   ],
   "source": [
    "cdatetime(meas.epoch(\"UTC\",\"01-Jul-2015 00:00\", \"UTC\"))"
   ]
  },
  {
   "cell_type": "markdown",
   "metadata": {},
   "source": [
    "### Positions"
   ]
  },
  {
   "cell_type": "markdown",
   "metadata": {},
   "source": [
    "Positions on Earth must be given with respect to a reference frame. Two important reference frames are `WGS84` and `ITRF`. Positions can be converted between reference frames with the function `meas.position` (or `meas.pos`)."
   ]
  },
  {
   "cell_type": "code",
   "execution_count": 179,
   "metadata": {
    "collapsed": false
   },
   "outputs": [
    {
     "name": "stdout",
     "output_type": "stream",
     "text": [
      "[ 3828485.54946,   443253.26237,  5064974.012  ] m\n"
     ]
    }
   ],
   "source": [
    "meas.position(\"ITRF\", [6.60417, 52.91692] deg, \"WGS\")"
   ]
  },
  {
   "cell_type": "markdown",
   "metadata": {},
   "source": [
    "Since `WGS` is the default, it may be omitted."
   ]
  },
  {
   "cell_type": "markdown",
   "metadata": {},
   "source": [
    "The positions of most radio telescopes are predefined:\n",
    "`\"ALMA\"`, `\"ARECIBO\"`, `\"ATCA\"`, `\"BIMA\"`, `\"CLRO\"`, `\"DRAO\"`, `\"DWL\"`, `\"GB\"`, `\"GBT\"`, `\"GMRT\"`, `\"IRAM PDB\"`, `\"IRAM_PDB\"`, `\"JCMT\"`, `\"MOPRA\"`, `\"MOST\"`, `\"NRAO12M\"`, `\"NRAO_GBT\"`, `\"PKS\"`, `\"SAO SMA\"`, `\"SMA\"`, `\"VLA\"`, `\"VLBA\"`, `\"WSRT\"`, `\"ATF\"`, `\"ATA\"`, `\"CARMA\"`, `\"ACA\"`, `\"OSF\"`, `\"OVRO_MMA\"`, `\"EVLA\"`, `\"ASKAP\"`, `\"APEX\"`, `\"SMT\"`, `\"NRO\"`, `\"ASTE\"`, `\"LOFAR\"`, `\"MeerKAT\"`, `\"KAT-7\"`, `\"EVN\"`, `\"LWA1\"`, `\"PAPER_SA\"`, `\"PAPER_GB\"`, `\"e-MERLIN\"`, `\"MERLIN2\"`, `\"Effelsberg\"`, `\"MWA32T\"`, `\"AMI-LA\"`"
   ]
  },
  {
   "cell_type": "markdown",
   "metadata": {},
   "source": [
    "The output of meas.position defaults to be in meters from the origin. By appending `LL` to the code for the frame, you get it in lat/long."
   ]
  },
  {
   "cell_type": "code",
   "execution_count": 271,
   "metadata": {
    "collapsed": false
   },
   "outputs": [
    {
     "name": "stdout",
     "output_type": "stream",
     "text": [
      "[  6.60417,  52.91692] deg\n"
     ]
    }
   ],
   "source": [
    "meas.position(\"WGSLL\", \"WSRT\") deg"
   ]
  },
  {
   "cell_type": "markdown",
   "metadata": {},
   "source": [
    "**Exercise**: compute the angular distance between ALMA and MeerKAT."
   ]
  },
  {
   "cell_type": "code",
   "execution_count": null,
   "metadata": {
    "collapsed": false
   },
   "outputs": [],
   "source": []
  },
  {
   "cell_type": "markdown",
   "metadata": {},
   "source": [
    "### Directions"
   ]
  },
  {
   "cell_type": "markdown",
   "metadata": {},
   "source": [
    "Casacore knows a lot of reference frames. Conversions between them are done with `meas.dir`:"
   ]
  },
  {
   "cell_type": "code",
   "execution_count": 187,
   "metadata": {
    "collapsed": false
   },
   "outputs": [
    {
     "name": "stdout",
     "output_type": "stream",
     "text": [
      "[ 1.00291,  0.61843] rad\n"
     ]
    }
   ],
   "source": [
    "meas.dir(\"GALACTIC\", [-6h52m36.7, 34d25m56.1], \"J2000\")"
   ]
  },
  {
   "cell_type": "markdown",
   "metadata": {},
   "source": [
    "Since `J2000` is the default, it may be omitted."
   ]
  },
  {
   "cell_type": "markdown",
   "metadata": {},
   "source": [
    "Several directions have been predefined, like all the planets, the sun and the moon, and standard sources (`\"CasA\"`, `\"CygA\"`, `\"TauA\"`, `\"VirA\"`, `\"HerA\"`, `\"HydA\"`, `\"PerA\"`)."
   ]
  },
  {
   "cell_type": "markdown",
   "metadata": {},
   "source": [
    "If you want to convert to a coordinate frame which is tied to the Earth, it is necessary to also specify a time and a position."
   ]
  },
  {
   "cell_type": "code",
   "execution_count": 12,
   "metadata": {
    "collapsed": false
   },
   "outputs": [
    {
     "name": "stdout",
     "output_type": "stream",
     "text": [
      "[ 0.68728, -0.45221] rad\n"
     ]
    }
   ],
   "source": [
    "meas.dir(\"AZEL\", \"Jupiter\", datetime(), \"WSRT\")"
   ]
  },
  {
   "cell_type": "markdown",
   "metadata": {},
   "source": [
    "The frame of the date and time can be given explicitly (and should be if they are not `UTC` and `WGS84`, respectively):"
   ]
  },
  {
   "cell_type": "code",
   "execution_count": 13,
   "metadata": {
    "collapsed": false
   },
   "outputs": [
    {
     "name": "stdout",
     "output_type": "stream",
     "text": [
      "[-1.57846,  0.19452] rad\n"
     ]
    }
   ],
   "source": [
    "meas.dir(\"AZEL\", \"Jupiter\", 2000-01-01 00:00, \"TAI\", \n",
    "        [3826577.110, 461022.900, 5064892.758] m, \"ITRF\")"
   ]
  },
  {
   "cell_type": "markdown",
   "metadata": {},
   "source": [
    "Frames available for directions are:\n",
    "\n",
    "| a | b | c |"
   ]
  },
  {
   "cell_type": "markdown",
   "metadata": {},
   "source": [
    "There is a special function to see when a source will be visible on a given day:"
   ]
  },
  {
   "cell_type": "code",
   "execution_count": 155,
   "metadata": {
    "collapsed": false
   },
   "outputs": [
    {
     "name": "stdout",
     "output_type": "stream",
     "text": [
      "[  6.60417,  52.91692] deg\n"
     ]
    }
   ],
   "source": [
    "meas.position(\"WGSLL\",\"WSRT\") deg"
   ]
  },
  {
   "cell_type": "code",
   "execution_count": 136,
   "metadata": {
    "collapsed": false
   },
   "outputs": [
    {
     "name": "stdout",
     "output_type": "stream",
     "text": [
      "['07:24:19.809', '16:08:33.675']\n"
     ]
    }
   ],
   "source": [
    "ctime(meas.riseset(\"SUN\", date(), [6.60417, 52.91692] deg))"
   ]
  },
  {
   "cell_type": "markdown",
   "metadata": {},
   "source": [
    "**Exercise**: when will Cassiopeia A rise tomorrow?"
   ]
  },
  {
   "cell_type": "code",
   "execution_count": 8,
   "metadata": {
    "collapsed": false
   },
   "outputs": [
    {
     "name": "stdout",
     "output_type": "stream",
     "text": [
      "Error: unicode is not supported"
     ]
    }
   ],
   "source": [
    "µ"
   ]
  },
  {
   "cell_type": "code",
   "execution_count": 32,
   "metadata": {
    "collapsed": false
   },
   "outputs": [
    {
     "name": "stdout",
     "output_type": "stream",
     "text": [
      "0.0174678369304 rad\n"
     ]
    }
   ],
   "source": [
    "1..3"
   ]
  },
  {
   "cell_type": "code",
   "execution_count": 16,
   "metadata": {
    "collapsed": false
   },
   "outputs": [
    {
     "name": "stdout",
     "output_type": "stream",
     "text": [
      "Update result of 366 rows\n"
     ]
    }
   ],
   "source": [
    "update [create table x inx I4 limit 366] set inx=rowid()"
   ]
  },
  {
   "cell_type": "code",
   "execution_count": 2,
   "metadata": {
    "collapsed": false
   },
   "outputs": [
    {
     "name": "stdout",
     "output_type": "stream",
     "text": [
      "['2016/01/01/00:00:00.000']\n"
     ]
    }
   ],
   "source": [
    "select cdatetime(meas.epoch(\"UTC\",1jan16))"
   ]
  },
  {
   "cell_type": "code",
   "execution_count": 15,
   "metadata": {
    "collapsed": false
   },
   "outputs": [
    {
     "name": "stdout",
     "output_type": "stream",
     "text": [
      "Error in TaQL command: using style Python select meas.riseset('SUN',1jan16+rowid(),'UTC',\"WSRT\")[0],\n",
      "       meas.riseset('SUN',1jan16+rowid(),'UTC',meas.pos(\"WGSLL\",[0.1199 ,1.57011] rad)[0],\n",
      "       meas.riseset('SUN',1jan16+rowid(),'UTC',\"WSRT\")[0] limit 31\n",
      "  parse error at or near position 232 'limit'"
     ]
    }
   ],
   "source": [
    "select meas.riseset('SUN',1jan16+rowid(),'UTC',\"WSRT\")[0],\n",
    "       meas.riseset('SUN',1jan16+rowid(),'UTC',meas.pos(\"WGSLL\",[0.1199 ,1.57011] rad)[0],\n",
    "       meas.riseset('SUN',1jan16+rowid(),'UTC',\"WSRT\")[0] limit 31"
   ]
  },
  {
   "cell_type": "code",
   "execution_count": 38,
   "metadata": {
    "collapsed": true
   },
   "outputs": [
    {
     "name": "stdout",
     "output_type": "stream",
     "text": [
      "Select result of 31 rows\n",
      "01-Jan-2016\t07:48:51\t15:37:51\n",
      "02-Jan-2016\t07:48:44\t15:38:55\n",
      "03-Jan-2016\t07:48:34\t15:40:01\n",
      "04-Jan-2016\t07:48:20\t15:41:10\n",
      "05-Jan-2016\t07:48:02\t15:42:21\n",
      "06-Jan-2016\t07:47:42\t15:43:35\n",
      "07-Jan-2016\t07:47:18\t15:44:52\n",
      "08-Jan-2016\t07:46:51\t15:46:11\n",
      "09-Jan-2016\t07:46:20\t15:47:32\n",
      "10-Jan-2016\t07:45:47\t15:48:55\n",
      "11-Jan-2016\t07:45:10\t15:50:20\n",
      "12-Jan-2016\t07:44:30\t15:51:47\n",
      "13-Jan-2016\t07:43:47\t15:53:17\n",
      "14-Jan-2016\t07:43:00\t15:54:48\n",
      "15-Jan-2016\t07:42:11\t15:56:20\n",
      "16-Jan-2016\t07:41:19\t15:57:55\n",
      "17-Jan-2016\t07:40:23\t15:59:30\n",
      "18-Jan-2016\t07:39:25\t16:01:08\n",
      "19-Jan-2016\t07:38:24\t16:02:46\n",
      "20-Jan-2016\t07:37:21\t16:04:26\n",
      "21-Jan-2016\t07:36:14\t16:06:07\n",
      "22-Jan-2016\t07:35:05\t16:07:50\n",
      "23-Jan-2016\t07:33:54\t16:09:33\n",
      "24-Jan-2016\t07:32:39\t16:11:17\n",
      "25-Jan-2016\t07:31:23\t16:13:03\n",
      "26-Jan-2016\t07:30:03\t16:14:49\n",
      "27-Jan-2016\t07:28:42\t16:16:36\n",
      "28-Jan-2016\t07:27:18\t16:18:23\n",
      "29-Jan-2016\t07:25:52\t16:20:11\n",
      "30-Jan-2016\t07:24:24\t16:22:00\n",
      "31-Jan-2016\t07:22:54\t16:23:50\n"
     ]
    }
   ],
   "source": [
    "select cdate(d[0]), str(d[0],'TIME'), str(d[1],'TIME') \n",
    "from [\n",
    "      select meas.riseset('SUN',1jan16+rowid(),'UTC',[5d0m,52d0m]) as d limit 31]"
   ]
  },
  {
   "cell_type": "code",
   "execution_count": 1,
   "metadata": {
    "collapsed": true
   },
   "outputs": [
    {
     "name": "stdout",
     "output_type": "stream",
     "text": [
      "Select result of 366 rows\n",
      "date       \tup      \tdown    \t\n",
      "01-Jan-2016\t07:48:51\t15:37:51\n",
      "02-Jan-2016\t07:48:44\t15:38:55\n",
      "03-Jan-2016\t07:48:34\t15:40:01\n",
      "04-Jan-2016\t07:48:20\t15:41:10\n",
      "05-Jan-2016\t07:48:02\t15:42:21\n",
      "06-Jan-2016\t07:47:42\t15:43:35\n",
      "07-Jan-2016\t07:47:18\t15:44:52\n",
      "08-Jan-2016\t07:46:51\t15:46:11\n",
      "09-Jan-2016\t07:46:20\t15:47:32\n",
      "10-Jan-2016\t07:45:47\t15:48:55\n",
      "11-Jan-2016\t07:45:10\t15:50:20\n",
      "12-Jan-2016\t07:44:30\t15:51:47\n",
      "13-Jan-2016\t07:43:47\t15:53:17\n",
      "14-Jan-2016\t07:43:00\t15:54:48\n",
      "15-Jan-2016\t07:42:11\t15:56:20\n",
      "16-Jan-2016\t07:41:19\t15:57:55\n",
      "17-Jan-2016\t07:40:23\t15:59:30\n",
      "18-Jan-2016\t07:39:25\t16:01:08\n",
      "19-Jan-2016\t07:38:24\t16:02:46\n",
      "20-Jan-2016\t07:37:21\t16:04:26\n",
      "21-Jan-2016\t07:36:14\t16:06:07\n",
      "22-Jan-2016\t07:35:05\t16:07:50\n",
      "23-Jan-2016\t07:33:54\t16:09:33\n",
      "24-Jan-2016\t07:32:39\t16:11:17\n",
      "25-Jan-2016\t07:31:23\t16:13:03\n",
      "26-Jan-2016\t07:30:03\t16:14:49\n",
      "27-Jan-2016\t07:28:42\t16:16:36\n",
      "28-Jan-2016\t07:27:18\t16:18:23\n",
      "29-Jan-2016\t07:25:52\t16:20:11\n",
      "30-Jan-2016\t07:24:24\t16:22:00\n",
      "31-Jan-2016\t07:22:54\t16:23:50\n",
      "01-Feb-2016\t07:21:21\t16:25:39\n",
      "02-Feb-2016\t07:19:47\t16:27:30\n",
      "03-Feb-2016\t07:18:10\t16:29:20\n",
      "04-Feb-2016\t07:16:32\t16:31:11\n",
      "05-Feb-2016\t07:14:52\t16:33:03\n",
      "06-Feb-2016\t07:13:10\t16:34:54\n",
      "07-Feb-2016\t07:11:26\t16:36:46\n",
      "08-Feb-2016\t07:09:41\t16:38:37\n",
      "09-Feb-2016\t07:07:54\t16:40:29\n",
      "10-Feb-2016\t07:06:05\t16:42:21\n",
      "11-Feb-2016\t07:04:15\t16:44:13\n",
      "12-Feb-2016\t07:02:24\t16:46:04\n",
      "13-Feb-2016\t07:00:30\t16:47:56\n",
      "14-Feb-2016\t06:58:36\t16:49:48\n",
      "15-Feb-2016\t06:56:40\t16:51:39\n",
      "16-Feb-2016\t06:54:43\t16:53:30\n",
      "17-Feb-2016\t06:52:44\t16:55:21\n",
      "18-Feb-2016\t06:50:44\t16:57:12\n",
      "19-Feb-2016\t06:48:43\t16:59:03\n",
      "20-Feb-2016\t06:46:41\t17:00:53\n",
      "21-Feb-2016\t06:44:38\t17:02:43\n",
      "22-Feb-2016\t06:42:34\t17:04:33\n",
      "23-Feb-2016\t06:40:29\t17:06:23\n",
      "24-Feb-2016\t06:38:22\t17:08:12\n",
      "25-Feb-2016\t06:36:15\t17:10:01\n",
      "26-Feb-2016\t06:34:07\t17:11:50\n",
      "27-Feb-2016\t06:31:58\t17:13:39\n",
      "28-Feb-2016\t06:29:49\t17:15:27\n",
      "29-Feb-2016\t06:27:38\t17:17:15\n",
      "01-Mar-2016\t06:25:27\t17:19:03\n",
      "02-Mar-2016\t06:23:15\t17:20:51\n",
      "03-Mar-2016\t06:21:03\t17:22:38\n",
      "04-Mar-2016\t06:18:49\t17:24:25\n",
      "05-Mar-2016\t06:16:36\t17:26:12\n",
      "06-Mar-2016\t06:14:21\t17:27:59\n",
      "07-Mar-2016\t06:12:07\t17:29:45\n",
      "08-Mar-2016\t06:09:51\t17:31:31\n",
      "09-Mar-2016\t06:07:36\t17:33:17\n",
      "10-Mar-2016\t06:05:19\t17:35:02\n",
      "11-Mar-2016\t06:03:03\t17:36:48\n",
      "12-Mar-2016\t06:00:46\t17:38:33\n",
      "13-Mar-2016\t05:58:29\t17:40:17\n",
      "14-Mar-2016\t05:56:11\t17:42:02\n",
      "15-Mar-2016\t05:53:53\t17:43:46\n",
      "16-Mar-2016\t05:51:35\t17:45:30\n",
      "17-Mar-2016\t05:49:17\t17:47:14\n",
      "18-Mar-2016\t05:46:58\t17:48:58\n",
      "19-Mar-2016\t05:44:39\t17:50:41\n",
      "20-Mar-2016\t05:46:16\t17:56:21\n",
      "21-Mar-2016\t05:43:58\t17:58:04\n",
      "22-Mar-2016\t05:41:39\t17:59:47\n",
      "23-Mar-2016\t05:39:20\t18:01:30\n",
      "24-Mar-2016\t05:37:01\t18:03:12\n",
      "25-Mar-2016\t05:34:42\t18:04:55\n",
      "26-Mar-2016\t05:32:23\t18:06:38\n",
      "27-Mar-2016\t05:30:04\t18:08:20\n",
      "28-Mar-2016\t05:27:45\t18:10:03\n",
      "29-Mar-2016\t05:25:27\t18:11:45\n",
      "30-Mar-2016\t05:23:09\t18:13:27\n",
      "31-Mar-2016\t05:20:50\t18:15:10\n",
      "01-Apr-2016\t05:18:33\t18:16:52\n",
      "02-Apr-2016\t05:16:15\t18:18:34\n",
      "03-Apr-2016\t05:13:58\t18:20:17\n",
      "04-Apr-2016\t05:11:41\t18:21:59\n",
      "05-Apr-2016\t05:09:25\t18:23:41\n",
      "06-Apr-2016\t05:07:09\t18:25:23\n",
      "07-Apr-2016\t05:04:53\t18:27:06\n",
      "08-Apr-2016\t05:02:38\t18:28:48\n",
      "09-Apr-2016\t05:00:23\t18:30:30\n",
      ".\n",
      ".\n",
      ".\n",
      "(266 more rows)\n"
     ]
    }
   ],
   "source": [
    "select cdate(d[0]) as date, str(time(d[0]),'TIME') as up, str(time(d[1]),'TIME') as down \n",
    "from [\n",
    "      select meas.riseset('SUN',1jan16+inx,'UTC',[5d0m,52d0m]) as d \n",
    "      from x\n",
    "      ]"
   ]
  },
  {
   "cell_type": "markdown",
   "metadata": {},
   "source": [
    "Or, if you're really interested in where the sun is at every hour today:"
   ]
  },
  {
   "cell_type": "code",
   "execution_count": 74,
   "metadata": {
    "collapsed": false
   },
   "outputs": [
    {
     "name": "stdout",
     "output_type": "stream",
     "text": [
      "[[   6.11385  -56.30321]\n",
      " [  30.35579  -53.43495]\n",
      " [  50.68577  -47.51312]\n",
      " [  67.11134  -39.73246]\n",
      " [  80.8438   -31.0091 ]\n",
      " [  93.03819  -21.949  ]\n",
      " [ 104.5546   -12.98206]\n",
      " [ 116.02526   -4.46896]\n",
      " [ 127.92826    3.23385]\n",
      " [ 140.60507    9.74133]\n",
      " [ 154.21569   14.64144]\n",
      " [ 168.65869   17.54348]\n",
      " [-176.46092   18.17195]\n",
      " [-161.71755   16.46225]\n",
      " [-147.62672   12.58665]\n",
      " [-134.44986    6.8882 ]\n",
      " [-122.15638   -0.22263]\n",
      " [-110.49178   -8.34281]\n",
      " [ -99.04783  -17.10173]\n",
      " [ -87.27926  -26.14526]\n",
      " [ -74.45842  -35.08826]\n",
      " [ -59.59219  -43.43128]\n",
      " [ -41.44212  -50.43494]\n",
      " [ -19.15597  -55.02431]] deg\n",
      "\n"
     ]
    }
   ],
   "source": [
    "meas.azel(\"SUN\", date()+[0:24]h, [6.60417, 52.91692] deg) deg"
   ]
  },
  {
   "cell_type": "code",
   "execution_count": null,
   "metadata": {
    "collapsed": false
   },
   "outputs": [],
   "source": [
    "update bla.MS set DATA[!FLAG]=0"
   ]
  },
  {
   "cell_type": "code",
   "execution_count": 51,
   "metadata": {
    "collapsed": false
   },
   "outputs": [
    {
     "name": "stdout",
     "output_type": "stream",
     "text": [
      "Select result of 1 row\n",
      "bla            \t\n",
      "4871282393.01 s\n"
     ]
    }
   ],
   "source": [
    "select TIME as bla from ~/projects/tim/tim.MS limit 1"
   ]
  },
  {
   "cell_type": "code",
   "execution_count": null,
   "metadata": {
    "collapsed": false
   },
   "outputs": [],
   "source": [
    "select hdms(DELAY_DIR), \"bla\" as bla from ~/projects/tim/tim.MS::FIELD"
   ]
  },
  {
   "cell_type": "code",
   "execution_count": null,
   "metadata": {
    "collapsed": false
   },
   "outputs": [],
   "source": [
    "select * from (select DELAY_DIR, \"bla\" from ~/projects/tim/tim.MS::FIELD)"
   ]
  },
  {
   "cell_type": "code",
   "execution_count": null,
   "metadata": {
    "collapsed": false
   },
   "outputs": [],
   "source": [
    "select UVW, ANTENNA1 as ant1, ANTENNA2 as ant2, mscal.ant1name(), mscal.ant2name() from (select from ~/projects/tim/tim.MS limit 10)"
   ]
  },
  {
   "cell_type": "markdown",
   "metadata": {},
   "source": [
    "Notation of angles"
   ]
  },
  {
   "cell_type": "markdown",
   "metadata": {},
   "source": [
    "Notation of dates"
   ]
  },
  {
   "cell_type": "markdown",
   "metadata": {},
   "source": [
    "## Tables"
   ]
  },
  {
   "cell_type": "code",
   "execution_count": null,
   "metadata": {
    "collapsed": false,
    "scrolled": true
   },
   "outputs": [],
   "source": [
    "select mean(DATA[FLAG]) as mymean, WEIGHT from ~/projects/tim/tim.MS limit 2"
   ]
  },
  {
   "cell_type": "markdown",
   "metadata": {},
   "source": [
    "Columns"
   ]
  },
  {
   "cell_type": "markdown",
   "metadata": {},
   "source": [
    "limit, offset, etc"
   ]
  },
  {
   "cell_type": "markdown",
   "metadata": {},
   "source": [
    "Storing the output"
   ]
  },
  {
   "cell_type": "markdown",
   "metadata": {},
   "source": [
    "### Using groupby"
   ]
  },
  {
   "cell_type": "markdown",
   "metadata": {},
   "source": [
    "## Structure of a Measurement Set"
   ]
  },
  {
   "cell_type": "markdown",
   "metadata": {},
   "source": [
    "Example with subquery"
   ]
  },
  {
   "cell_type": "markdown",
   "metadata": {},
   "source": [
    "Example with mscal"
   ]
  },
  {
   "cell_type": "markdown",
   "metadata": {},
   "source": [
    "## Baseline selection syntax"
   ]
  }
 ],
 "metadata": {
  "kernelspec": {
   "display_name": "TaQL",
   "language": "",
   "name": "taql"
  },
  "language_info": {
   "mimetype": "text/plain",
   "name": "taql"
  }
 },
 "nbformat": 4,
 "nbformat_minor": 0
}
