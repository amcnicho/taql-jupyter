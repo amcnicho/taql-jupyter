{
 "cells": [
  {
   "cell_type": "markdown",
   "metadata": {},
   "source": [
    "# Mastering TaQL"
   ]
  },
  {
   "cell_type": "markdown",
   "metadata": {
    "collapsed": false
   },
   "source": [
    "TaQL is part of [casacore](https://github.com/casacore/casacore), a set of libraries for radio astronomy data processing.\n",
    "\n",
    "TaQL stands for \"Table Query Language\", but it can be used also without tables."
   ]
  },
  {
   "cell_type": "markdown",
   "metadata": {},
   "source": [
    "## TaQL as a calculator"
   ]
  },
  {
   "cell_type": "code",
   "execution_count": 3,
   "metadata": {
    "collapsed": false
   },
   "outputs": [
    {
     "name": "stdout",
     "output_type": "stream",
     "text": [
      "Error in TaQL command: 'using style Python update bla.MS set DATA[!FLAG]=0'\n",
      "  Table bla.MS does not exist"
     ]
    }
   ],
   "source": [
    "update bla.MS set DATA[!FLAG]=0"
   ]
  },
  {
   "cell_type": "code",
   "execution_count": 4,
   "metadata": {
    "collapsed": false
   },
   "outputs": [
    {
     "name": "stdout",
     "output_type": "stream",
     "text": [
      "Select result of 168 rows\n",
      "bla\t\n",
      "0\n",
      "1\n",
      "2\n",
      "3\n",
      "4\n",
      "5\n",
      "6\n",
      "7\n",
      "8\n",
      "9\n",
      "10\n",
      "11\n",
      "12\n",
      "13\n",
      "14\n",
      "15\n",
      "16\n",
      "17\n",
      "18\n",
      "19\n",
      "20\n",
      "21\n",
      "22\n",
      "23\n",
      "24\n",
      "25\n",
      "26\n",
      "27\n",
      "28\n",
      "29\n",
      "30\n",
      "31\n",
      "32\n",
      "33\n",
      "34\n",
      "35\n",
      "36\n",
      "37\n",
      "38\n",
      "39\n",
      "40\n",
      "41\n",
      "42\n",
      "43\n",
      "44\n",
      "45\n",
      "46\n",
      "47\n",
      "48\n",
      "49\n",
      "50\n",
      "51\n",
      "52\n",
      "53\n",
      "54\n",
      "55\n",
      "56\n",
      "57\n",
      "58\n",
      "59\n",
      "60\n",
      "61\n",
      "62\n",
      "63\n",
      "64\n",
      "65\n",
      "66\n",
      "67\n",
      "68\n",
      "69\n",
      "70\n",
      "71\n",
      "72\n",
      "73\n",
      "74\n",
      "75\n",
      "76\n",
      "77\n",
      "78\n",
      "79\n",
      "80\n",
      "81\n",
      "82\n",
      "83\n",
      "84\n",
      "85\n",
      "86\n",
      "87\n",
      "88\n",
      "89\n",
      "90\n",
      "91\n",
      "92\n",
      "93\n",
      "94\n",
      "95\n",
      "96\n",
      "97\n",
      "98\n",
      "99\n",
      ".\n",
      ".\n",
      ".\n",
      "(68 more rows)\n"
     ]
    }
   ],
   "source": [
    "select rownr() as bla from ~/projects/tim/tim.MS"
   ]
  },
  {
   "cell_type": "code",
   "execution_count": 5,
   "metadata": {
    "collapsed": false
   },
   "outputs": [
    {
     "name": "stdout",
     "output_type": "stream",
     "text": [
      "Select result of 1 row\n",
      "Col_1                        \tbla\t\n",
      "[01h37m41.299 +033d09m35.132]\tbla\n"
     ]
    }
   ],
   "source": [
    "select hdms(DELAY_DIR), \"bla\" as bla from ~/projects/tim/tim.MS::FIELD"
   ]
  },
  {
   "cell_type": "code",
   "execution_count": 6,
   "metadata": {
    "collapsed": false
   },
   "outputs": [
    {
     "name": "stdout",
     "output_type": "stream",
     "text": [
      "Select result of 1 row\n",
      "DELAY_DIR                \tCol_2\t\n",
      "[[ 0.42625  0.57875]] rad\tbla\n"
     ]
    }
   ],
   "source": [
    "select * from (select DELAY_DIR, \"bla\" from ~/projects/tim/tim.MS::FIELD)"
   ]
  },
  {
   "cell_type": "code",
   "execution_count": 7,
   "metadata": {
    "collapsed": false
   },
   "outputs": [
    {
     "name": "stdout",
     "output_type": "stream",
     "text": [
      "Select result of 10 rows\n",
      "UVW                                 \tant1\tant2\tCol_4    \tCol_5    \t\n",
      "[ -89.54565  341.30255 -114.27495] m\t0\t1\tCS001HBA0\tCS002HBA0\n",
      "[ -92.62838  382.63037 -129.69754] m\t0\t2\tCS001HBA0\tCS002HBA1\n",
      "[ -3.08273  41.32783 -15.42259] m\t1\t2\tCS002HBA0\tCS002HBA1\n",
      "[-129.27822  364.70661 -114.699  ] m\t0\t3\tCS001HBA0\tCS004HBA1\n",
      "[-39.73257  23.40407  -0.42405] m\t1\t3\tCS002HBA0\tCS004HBA1\n",
      "[-36.64984 -17.92376  14.99854] m\t2\t3\tCS002HBA1\tCS004HBA1\n",
      "[ 8470.84818 -2334.42248  -949.06666] m\t0\t4\tCS001HBA0\tRS106HBA\n",
      "[ 8560.39382 -2675.72503  -834.79171] m\t1\t4\tCS002HBA0\tRS106HBA\n",
      "[ 8563.47656 -2717.05286  -819.36912] m\t2\t4\tCS002HBA1\tRS106HBA\n",
      "[ 8600.1264  -2699.1291   -834.36766] m\t3\t4\tCS004HBA1\tRS106HBA\n"
     ]
    }
   ],
   "source": [
    "select UVW, ANTENNA1 as ant1, ANTENNA2 as ant2, mscal.ant1name(), mscal.ant2name() from (select from ~/projects/tim/tim.MS limit 10)"
   ]
  },
  {
   "cell_type": "code",
   "execution_count": 8,
   "metadata": {
    "collapsed": false
   },
   "outputs": [
    {
     "name": "stdout",
     "output_type": "stream",
     "text": [
      "42\n"
     ]
    }
   ],
   "source": [
    "6*7"
   ]
  },
  {
   "cell_type": "markdown",
   "metadata": {},
   "source": [
    "### Units"
   ]
  },
  {
   "cell_type": "markdown",
   "metadata": {},
   "source": [
    "## Measures"
   ]
  },
  {
   "cell_type": "code",
   "execution_count": null,
   "metadata": {
    "collapsed": false
   },
   "outputs": [],
   "source": [
    "select meas.azel(\"SUN\", date()+[0:24]h, \"WSRT\") deg"
   ]
  },
  {
   "cell_type": "markdown",
   "metadata": {},
   "source": [
    "Notation of angles"
   ]
  },
  {
   "cell_type": "markdown",
   "metadata": {},
   "source": [
    "Notation of dates"
   ]
  },
  {
   "cell_type": "markdown",
   "metadata": {},
   "source": [
    "## Tables"
   ]
  },
  {
   "cell_type": "code",
   "execution_count": null,
   "metadata": {
    "collapsed": false,
    "scrolled": true
   },
   "outputs": [],
   "source": [
    "select mean(DATA[FLAG]) as mymean, WEIGHT from ~/projects/tim/tim.MS limit 2"
   ]
  },
  {
   "cell_type": "markdown",
   "metadata": {},
   "source": [
    "Columns"
   ]
  },
  {
   "cell_type": "markdown",
   "metadata": {},
   "source": [
    "limit, offset, etc"
   ]
  },
  {
   "cell_type": "markdown",
   "metadata": {},
   "source": [
    "Storing the output"
   ]
  },
  {
   "cell_type": "markdown",
   "metadata": {},
   "source": [
    "### Using groupby"
   ]
  },
  {
   "cell_type": "markdown",
   "metadata": {},
   "source": [
    "## Structure of a Measurement Set"
   ]
  },
  {
   "cell_type": "markdown",
   "metadata": {},
   "source": [
    "Example with subquery"
   ]
  },
  {
   "cell_type": "markdown",
   "metadata": {},
   "source": [
    "Example with mscal"
   ]
  },
  {
   "cell_type": "markdown",
   "metadata": {},
   "source": [
    "## Baseline selection syntax"
   ]
  }
 ],
 "metadata": {
  "kernelspec": {
   "display_name": "TaQL",
   "language": "",
   "name": "taql"
  },
  "language_info": {
   "mimetype": "text/plain",
   "name": "taql"
  }
 },
 "nbformat": 4,
 "nbformat_minor": 0
}
